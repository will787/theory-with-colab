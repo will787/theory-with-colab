{
  "nbformat": 4,
  "nbformat_minor": 0,
  "metadata": {
    "colab": {
      "provenance": [],
      "authorship_tag": "ABX9TyOTGSnYfbM69h/XidzYYxaX",
      "include_colab_link": true
    },
    "kernelspec": {
      "name": "python3",
      "display_name": "Python 3"
    },
    "language_info": {
      "name": "python"
    }
  },
  "cells": [
    {
      "cell_type": "markdown",
      "metadata": {
        "id": "view-in-github",
        "colab_type": "text"
      },
      "source": [
        "<a href=\"https://colab.research.google.com/github/will787/theory-with-colab/blob/main/dict.ipynb\" target=\"_parent\"><img src=\"https://colab.research.google.com/assets/colab-badge.svg\" alt=\"Open In Colab\"/></a>"
      ]
    },
    {
      "cell_type": "code",
      "execution_count": 56,
      "metadata": {
        "id": "XwEhfxy4kdAY"
      },
      "outputs": [],
      "source": [
        "import numpy as np\n",
        "import pandas as pd\n",
        "import matplotlib as plt\n",
        "from PIL import Image\n",
        "from IPython.display import display\n",
        "import os"
      ]
    },
    {
      "cell_type": "code",
      "source": [
        "users = [\n",
        "{ \"id\": 0, \"name\": \"Hero\" },\n",
        "{ \"id\": 1, \"name\": \"Dunn\" },\n",
        "{ \"id\": 2, \"name\": \"Sue\" },\n",
        "{ \"id\": 3, \"name\": \"Chi\" },\n",
        "{ \"id\": 4, \"name\": \"Thor\" },\n",
        "{ \"id\": 5, \"name\": \"Clive\" },\n",
        "{ \"id\": 6, \"name\": \"Hicks\" },\n",
        "{ \"id\": 7, \"name\": \"Devin\" },\n",
        "{ \"id\": 8, \"name\": \"Kate\" },\n",
        "{ \"id\": 9, \"name\": \"Klein\" }\n",
        "]"
      ],
      "metadata": {
        "id": "DauqszuJkk3j"
      },
      "execution_count": 57,
      "outputs": []
    },
    {
      "cell_type": "code",
      "source": [
        "friendships = [(0, 1), (0, 2), (1, 2), (1, 3), (2, 3), (3, 4),\n",
        "(4, 5), (5, 6), (5, 7), (6, 8), (7, 8), (8, 9)]\n",
        "\n",
        "#cientista de dados são amigos, exemplo entre Hero e Dunn, por aí vai, segundo aos valores da variável no array."
      ],
      "metadata": {
        "id": "EinhnsCskqJe"
      },
      "execution_count": 58,
      "outputs": []
    },
    {
      "cell_type": "code",
      "source": [
        "for user in users:\n",
        "  user[\"friends\"] = []"
      ],
      "metadata": {
        "id": "iUugHBk6ktmx"
      },
      "execution_count": 59,
      "outputs": []
    },
    {
      "cell_type": "code",
      "source": [
        "for i,j in friendships:\n",
        "  users[i][\"friends\"].append(users[j]) #adiciona i como um amigo de j\n",
        "  users[j][\"friends\"].append(users[i]) #adiciona j como um amigo de i"
      ],
      "metadata": {
        "id": "VlnKwI5Yliwe"
      },
      "execution_count": 60,
      "outputs": []
    },
    {
      "cell_type": "code",
      "source": [
        "def number_friends(users):\n",
        "  return len(users[\"friends\"])\n",
        "\n",
        "total_conect = sum(number_friends(user) for user in users)\n",
        "\n",
        "print(total_conect)"
      ],
      "metadata": {
        "colab": {
          "base_uri": "https://localhost:8080/"
        },
        "id": "_eWjyivOmAhT",
        "outputId": "e1c16b91-33c4-4392-e748-07e6a84f5223"
      },
      "execution_count": 61,
      "outputs": [
        {
          "output_type": "stream",
          "name": "stdout",
          "text": [
            "24\n"
          ]
        }
      ]
    },
    {
      "cell_type": "code",
      "source": [
        "num_users = len(users)\n",
        "print(num_users)\n",
        "print(total_conect)\n",
        "avg_connections = total_conect / num_users\n",
        "print(avg_connections)"
      ],
      "metadata": {
        "id": "xLAFQ1CPmyx1",
        "colab": {
          "base_uri": "https://localhost:8080/"
        },
        "outputId": "145c0c60-e745-45b1-e302-cf42e0b18f87"
      },
      "execution_count": 62,
      "outputs": [
        {
          "output_type": "stream",
          "name": "stdout",
          "text": [
            "10\n",
            "24\n",
            "2.4\n"
          ]
        }
      ]
    },
    {
      "cell_type": "code",
      "source": [
        "# cada par é (user_id, num_friends)\n",
        "number_friends_by_id = [(user[\"id\"], number_friends(user)) for user in users]\n",
        "print(number_friends_by_id)"
      ],
      "metadata": {
        "colab": {
          "base_uri": "https://localhost:8080/"
        },
        "id": "o-YAEXDmoGWC",
        "outputId": "a95fb6d2-3a22-4190-83f0-2ee208555b95"
      },
      "execution_count": 63,
      "outputs": [
        {
          "output_type": "stream",
          "name": "stdout",
          "text": [
            "[(0, 2), (1, 3), (2, 3), (3, 3), (4, 2), (5, 3), (6, 2), (7, 2), (8, 3), (9, 1)]\n"
          ]
        }
      ]
    },
    {
      "cell_type": "code",
      "source": [
        "def friends_of_friends_ids_bad(user):\n",
        "  #foaf = friend of a friend\n",
        "  return [foaf[\"id\"]\n",
        "    for friend in user[\"friends\"]\n",
        "    for foaf in friend[\"friends\"]]\n",
        "\n",
        "print(friends_of_friends_ids_bad(users[0]))"
      ],
      "metadata": {
        "colab": {
          "base_uri": "https://localhost:8080/"
        },
        "id": "UERqAfrHp4Fe",
        "outputId": "6ab9fcd5-31d7-4d7a-870c-074033bbef41"
      },
      "execution_count": 64,
      "outputs": [
        {
          "output_type": "stream",
          "name": "stdout",
          "text": [
            "[0, 2, 3, 0, 1, 3]\n"
          ]
        }
      ]
    },
    {
      "cell_type": "code",
      "source": [
        "print ([friend[\"id\"] for friend in users[0][\"friends\"]])\n",
        "print ([friend[\"id\"] for friend in users[1][\"friends\"]])\n",
        "print ([friend[\"id\"] for friend in users[2][\"friends\"]])"
      ],
      "metadata": {
        "colab": {
          "base_uri": "https://localhost:8080/"
        },
        "id": "ygpA82GItH3P",
        "outputId": "569fe969-71b2-4d81-fe34-52e4e697414e"
      },
      "execution_count": 65,
      "outputs": [
        {
          "output_type": "stream",
          "name": "stdout",
          "text": [
            "[1, 2]\n",
            "[0, 2, 3]\n",
            "[0, 1, 3]\n"
          ]
        }
      ]
    },
    {
      "cell_type": "code",
      "source": [
        "from collections import Counter\n",
        "\n",
        "def not_the_same(user, other_user):\n",
        "  \"dois usuários não são os mesmos se possuem ids diferentes\"\n",
        "  return user[\"id\"] != other_user[\"id\"]\n",
        "\n",
        "\n",
        "def not_friends(user, other_user):\n",
        "  \"\"\"other_user não é um amigo se não está em user[\"friends\"]\",\n",
        "  isso é, se é not_the_same com todas as pessoas em user[\"friends\"]\"\"\"\n",
        "  return all(not_the_same(friend, other_user) for friend in user[\"friends\"])\n",
        "\n",
        "def friends_of_friends_ids(user):\n",
        "  return Counter(foaf[\"id\"]\n",
        "                 for friend in user[\"friends\"]  ## para cada um dos meus amigos\n",
        "                for foaf in friend[\"friends\"]  ## que contam *their* amigos\n",
        "                 if not_the_same(user,foaf)     ## que não sejam eu\n",
        "                 and not_friends(user,foaf))    ## e que não são meus amigos\n",
        "\n",
        "\n",
        "result = friends_of_friends_ids(users[5])\n",
        "print(result)"
      ],
      "metadata": {
        "colab": {
          "base_uri": "https://localhost:8080/"
        },
        "id": "iIhasyX1vSII",
        "outputId": "8d3ba61c-ff5e-425d-e23e-067fe5569422"
      },
      "execution_count": 66,
      "outputs": [
        {
          "output_type": "stream",
          "name": "stdout",
          "text": [
            "Counter({8: 2, 3: 1})\n"
          ]
        }
      ]
    },
    {
      "cell_type": "code",
      "source": [
        "imagem = Image.open(\"/content/image-network-friends.png\")\n",
        "display(imagem)"
      ],
      "metadata": {
        "colab": {
          "base_uri": "https://localhost:8080/",
          "height": 228
        },
        "id": "8t1LzJMhvx-B",
        "outputId": "e14a7ef2-7a04-4446-8450-bac83ba2087e"
      },
      "execution_count": 67,
      "outputs": [
        {
          "output_type": "display_data",
          "data": {
            "text/plain": [
              "<PIL.PngImagePlugin.PngImageFile image mode=RGB size=618x211>"
            ],
            "image/png": "[encoded data removed]"
          },
          "metadata": {}
        }
      ]
    },
    {
      "cell_type": "code",
      "source": [
        "interests = [\n",
        "(0, \"Hadoop\"), (0, \"Big Data\"), (0, \"HBase\"), (0, \"Java\"),\n",
        "(0, \"Spark\"), (0, \"Storm\"), (0, \"Cassandra\"),\n",
        "(1, \"NoSQL\"), (1, \"MongoDB\"), (1, \"Cassandra\"), (1, \"HBase\"),\n",
        "(1, \"Postgres\"), (2, \"Python\"), (2, \"scikit-learn\"), (2, \"scipy\"),\n",
        "(2, \"numpy\"), (2, \"statsmodels\"), (2, \"pandas\"), (3, \"R\"), (3, \"Python\"),\n",
        "(3, \"statistics\"), (3, \"regression\"), (3, \"probability\"),\n",
        "(4, \"machine learning\"), (4, \"regression\"), (4, \"decision trees\"),\n",
        "(4, \"libsvm\"), (5, \"Python\"), (5, \"R\"), (5, \"Java\"), (5, \"C++\"),\n",
        "(5, \"Haskell\"), (5, \"programming languages\"), (6, \"statistics\"),\n",
        "(6, \"probability\"), (6, \"mathematics\"), (6, \"theory\"),\n",
        "(7, \"machine learning\"), (7, \"scikit-learn\"), (7, \"Mahout\"),\n",
        "(7, \"neural networks\"), (8, \"neural networks\"), (8, \"deep learning\"),\n",
        "(8, \"Big Data\"), (8, \"artificial intelligence\"), (9, \"Hadoop\"),\n",
        "(9, \"Java\"), (9, \"MapReduce\"), (9, \"Big Data\")\n",
        "]"
      ],
      "metadata": {
        "id": "GFTftYve3O_l"
      },
      "execution_count": 68,
      "outputs": []
    },
    {
      "cell_type": "code",
      "source": [
        "def data_science_who_like(target_interest):\n",
        "  return [user_id\n",
        "          for user_id,user_interest in interests\n",
        "          if user_interest == target_interest]"
      ],
      "metadata": {
        "id": "uGMnWEEJzXuR"
      },
      "execution_count": 69,
      "outputs": []
    },
    {
      "cell_type": "code",
      "source": [
        "from collections import defaultdict # instancia atraves defaultdict um novo dict vazio.\n",
        "import collections"
      ],
      "metadata": {
        "id": "YnL1Dxwz1Jqc"
      },
      "execution_count": 70,
      "outputs": []
    },
    {
      "cell_type": "code",
      "source": [
        "# chaves sendo interesses, os valores sendo uma listas de user_ids com interests\n",
        "user_ids_interest = defaultdict(list)\n",
        "for user_id,interest in interests:\n",
        "    user_ids_interest[interest].append(user_id)\n",
        "\n",
        "# chaves são user_ids, os valores são as listas de interests para aquele user_id\n",
        "interests_by_user_id = defaultdict(list)\n",
        "for user_id, interest in interests:\n",
        "  interests_by_user_id[user_id].append(interest)"
      ],
      "metadata": {
        "id": "1QTq-eCu1MHk"
      },
      "execution_count": 71,
      "outputs": []
    },
    {
      "cell_type": "code",
      "source": [
        "def most_common_interests_with(user):\n",
        "  return Counter(interested_user_id\n",
        "                  for interest in interests_by_user_id[user[\"id\"]]\n",
        "                  for interested_user_id in user_ids_interest[interest]\n",
        "                  if interested_user_id != user[\"id\"])"
      ],
      "metadata": {
        "id": "2XamRclF2MvP"
      },
      "execution_count": 72,
      "outputs": []
    },
    {
      "cell_type": "code",
      "source": [
        "salaries_and_tenures = [(83000, 8.7), (88000, 8.1),\n",
        "(48000, 0.7), (76000, 6),\n",
        "(69000, 6.5), (76000, 7.5),\n",
        "(60000, 2.5), (83000, 10),\n",
        "(48000, 1.9), (63000, 4.2)]"
      ],
      "metadata": {
        "id": "CcEM1Lav3n1M"
      },
      "execution_count": 73,
      "outputs": []
    },
    {
      "cell_type": "code",
      "source": [
        "# as  chaves são os anos, os valores são as listas dos salários para cada ano\n",
        "salary_by_tenure = defaultdict(list) # < aqui tem um dictionary, abaixo iremos preencher ele\n",
        "\n",
        "# para cada salário e também experiência em salaries_and_ternures, iremos preencher nosso novo dict\n",
        "# a chaves sera tenure, também adicionaremos salary\n",
        "for salary,tenure in salaries_and_tenures:\n",
        "  salary_by_tenure[tenure].append(salary)"
      ],
      "metadata": {
        "id": "JnwxLCIs32FN"
      },
      "execution_count": 74,
      "outputs": []
    },
    {
      "cell_type": "code",
      "source": [
        "average_salary_by_tenure = {\n",
        "    tenure : sum(salaries) / len(salaries)\n",
        "    for tenures,salaries in salary_by_tenure.items()\n",
        "}\n",
        "print(average_salary_by_tenure)"
      ],
      "metadata": {
        "colab": {
          "base_uri": "https://localhost:8080/"
        },
        "id": "92XjXxAD4RqW",
        "outputId": "c2957e88-0cdf-4d36-fc4e-b5683a608b0d"
      },
      "execution_count": 80,
      "outputs": [
        {
          "output_type": "stream",
          "name": "stdout",
          "text": [
            "{4.2: 61500.0}\n"
          ]
        }
      ]
    },
    {
      "cell_type": "code",
      "source": [
        "def tenure_bucket(tenure):\n",
        "  if tenure < 2:\n",
        "    return \"menor que dois\"\n",
        "  elif tenure <5:\n",
        "    return \"entre dois e cinco\"\n",
        "  else:\n",
        "    return \"maior que cinco\"\n",
        "\n",
        "\n",
        "salary_by_tenure_bucket = defaultdict(list)\n",
        "\n",
        "for salary,tenure in salaries_and_tenures:\n",
        "  bucket = tenure_bucket(tenure)\n",
        "  salary_by_tenure_bucket[bucket].append(salary)\n",
        "  print(salary_by_tenure_bucket)"
      ],
      "metadata": {
        "colab": {
          "base_uri": "https://localhost:8080/"
        },
        "id": "0ZHuAPD94REG",
        "outputId": "61dca0dc-6957-4100-cdfa-63f456297208"
      },
      "execution_count": 98,
      "outputs": [
        {
          "output_type": "stream",
          "name": "stdout",
          "text": [
            "defaultdict(<class 'list'>, {'maior que cinco': [83000]})\n",
            "defaultdict(<class 'list'>, {'maior que cinco': [83000, 88000]})\n",
            "defaultdict(<class 'list'>, {'maior que cinco': [83000, 88000], 'menor que dois': [48000]})\n",
            "defaultdict(<class 'list'>, {'maior que cinco': [83000, 88000, 76000], 'menor que dois': [48000]})\n",
            "defaultdict(<class 'list'>, {'maior que cinco': [83000, 88000, 76000, 69000], 'menor que dois': [48000]})\n",
            "defaultdict(<class 'list'>, {'maior que cinco': [83000, 88000, 76000, 69000, 76000], 'menor que dois': [48000]})\n",
            "defaultdict(<class 'list'>, {'maior que cinco': [83000, 88000, 76000, 69000, 76000], 'menor que dois': [48000], 'entre dois e cinco': [60000]})\n",
            "defaultdict(<class 'list'>, {'maior que cinco': [83000, 88000, 76000, 69000, 76000, 83000], 'menor que dois': [48000], 'entre dois e cinco': [60000]})\n",
            "defaultdict(<class 'list'>, {'maior que cinco': [83000, 88000, 76000, 69000, 76000, 83000], 'menor que dois': [48000, 48000], 'entre dois e cinco': [60000]})\n",
            "defaultdict(<class 'list'>, {'maior que cinco': [83000, 88000, 76000, 69000, 76000, 83000], 'menor que dois': [48000, 48000], 'entre dois e cinco': [60000, 63000]})\n"
          ]
        }
      ]
    },
    {
      "cell_type": "code",
      "source": [
        "#as chaves são agrupamentos dos casos, os valores\n",
        "# a média salarial para aquele agrupamento\n",
        "\n",
        "average_salary_by_bucket = {\n",
        "  tenure_bucket : sum(salaries) / len(salaries)\n",
        "  for tenure_bucket, salaries in salary_by_tenure_bucket.items()\n",
        "}\n",
        "\n",
        "print(average_salary_by_bucket)"
      ],
      "metadata": {
        "colab": {
          "base_uri": "https://localhost:8080/"
        },
        "id": "QwiI_2Vj9j9T",
        "outputId": "780fd108-36be-4aad-8e4b-2ca6f3c3092a"
      },
      "execution_count": 103,
      "outputs": [
        {
          "output_type": "stream",
          "name": "stdout",
          "text": [
            "{'maior que cinco': 79166.66666666667, 'menor que dois': 48000.0, 'entre dois e cinco': 61500.0}\n"
          ]
        }
      ]
    },
    {
      "cell_type": "markdown",
      "source": [],
      "metadata": {
        "id": "oEg1VSUiFRvA"
      }
    },
    {
      "cell_type": "code",
      "source": [],
      "metadata": {
        "colab": {
          "base_uri": "https://localhost:8080/"
        },
        "id": "atKjBXdC_Ody",
        "outputId": "a2aa0ea2-4072-4533-b1b6-b80944f16074"
      },
      "execution_count": 85,
      "outputs": [
        {
          "output_type": "stream",
          "name": "stdout",
          "text": [
            "{}\n"
          ]
        }
      ]
    },
    {
      "cell_type": "code",
      "source": [],
      "metadata": {
        "id": "QrZ67Ol2EaIl"
      },
      "execution_count": null,
      "outputs": []
    }
  ]
}