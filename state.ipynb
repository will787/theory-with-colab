{
  "nbformat": 4,
  "nbformat_minor": 0,
  "metadata": {
    "colab": {
      "provenance": [],
      "authorship_tag": "ABX9TyO8OWknL+lsbgurlUFVKBMW"
    },
    "kernelspec": {
      "name": "python3",
      "display_name": "Python 3"
    },
    "language_info": {
      "name": "python"
    }
  },
  "cells": [
    {
      "cell_type": "code",
      "execution_count": null,
      "metadata": {
        "id": "W_dlvVSdlIgO"
      },
      "outputs": [],
      "source": [
        "import numpy as np\n",
        "import pandas as pd\n",
        "import matplotlib.pyplot as plt"
      ]
    },
    {
      "cell_type": "code",
      "source": [
        "def tx_ag(k_p, rt, pt):\n",
        "  lucro = pt - rt\n",
        "  print(lucro)\n",
        "  tx = lucro/100 - 1\n",
        "  tx = np.around(tx, decimals=2)\n",
        "  return tx\n",
        "\n",
        "print(f\" T1 =  Value porcent 1 = 100%, value of tx_ag : {tx_ag(100, 20, 130)}%\")\n",
        "print(f\" T2 =  Value porcent 1 = 100%, value of tx_ag : {tx_ag(100, 10, 120)}%\")\n",
        "print(f\" T3 =  Value porcent 1 = 100%, value of tx_ag : {tx_ag(100, 0, 110)}%\")\n"
      ],
      "metadata": {
        "id": "jJPoXOc0lhOx",
        "colab": {
          "base_uri": "https://localhost:8080/"
        },
        "outputId": "2e5b7dae-4908-4d4d-d890-5bb6b7fbd589"
      },
      "execution_count": null,
      "outputs": [
        {
          "output_type": "stream",
          "name": "stdout",
          "text": [
            "110\n",
            " T1 =  Value porcent 1 = 100%, value of tx_ag : 0.1%\n",
            "110\n",
            " T2 =  Value porcent 1 = 100%, value of tx_ag : 0.1%\n",
            "110\n",
            " T3 =  Value porcent 1 = 100%, value of tx_ag : 0.1%\n"
          ]
        }
      ]
    },
    {
      "cell_type": "code",
      "source": [
        "# Todas as terras têm o mesmo tamanho e diferentes fertilidades\n",
        "# K.apli é Cereal = sementes e alimentos para os trabalhadores\n",
        "# 1. Ao incoporar t2"
      ],
      "metadata": {
        "id": "EgH8YovglsnB"
      },
      "execution_count": null,
      "outputs": []
    }
  ]
}