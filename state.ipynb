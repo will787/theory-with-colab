{
  "nbformat": 4,
  "nbformat_minor": 0,
  "metadata": {
    "colab": {
      "provenance": [],
      "authorship_tag": "ABX9TyNPEU6THSiQ5b1TjWJJLQMK",
      "include_colab_link": true
    },
    "kernelspec": {
      "name": "python3",
      "display_name": "Python 3"
    },
    "language_info": {
      "name": "python"
    }
  },
  "cells": [
    {
      "cell_type": "markdown",
      "metadata": {
        "id": "view-in-github",
        "colab_type": "text"
      },
      "source": [
        "<a href=\"https://colab.research.google.com/github/will787/theory-with-colab/blob/main/state.ipynb\" target=\"_parent\"><img src=\"https://colab.research.google.com/assets/colab-badge.svg\" alt=\"Open In Colab\"/></a>"
      ]
    },
    {
      "cell_type": "code",
      "execution_count": null,
      "metadata": {
        "id": "W_dlvVSdlIgO"
      },
      "outputs": [],
      "source": [
        "import numpy as np\n",
        "import pandas as pd\n",
        "import matplotlib.pyplot as plt"
      ]
    },
    {
      "cell_type": "code",
      "source": [
        "def tx_ag(k_p, rt, pt):\n",
        "  lucro = pt - rt\n",
        "  print(lucro)\n",
        "  tx = lucro/100 - 1\n",
        "  tx = np.around(tx, decimals=2)\n",
        "  return tx\n",
        "\n",
        "print(f\" T1 =  Value porcent 1 = 100%, value of tx_ag : {tx_ag(100, 20, 130)}%\")\n",
        "print(f\" T2 =  Value porcent 1 = 100%, value of tx_ag : {tx_ag(100, 10, 120)}%\")\n",
        "print(f\" T3 =  Value porcent 1 = 100%, value of tx_ag : {tx_ag(100, 0, 110)}%\")\n"
      ],
      "metadata": {
        "id": "jJPoXOc0lhOx",
        "colab": {
          "base_uri": "https://localhost:8080/"
        },
        "outputId": "fc455056-485b-49f0-d545-6cd68bbb5816"
      },
      "execution_count": null,
      "outputs": [
        {
          "output_type": "stream",
          "name": "stdout",
          "text": [
            "110\n",
            " T1 =  Value porcent 1 = 100%, value of tx_ag : 0.1%\n",
            "110\n",
            " T2 =  Value porcent 1 = 100%, value of tx_ag : 0.1%\n",
            "110\n",
            " T3 =  Value porcent 1 = 100%, value of tx_ag : 0.1%\n"
          ]
        }
      ]
    },
    {
      "cell_type": "code",
      "source": [
        "# Todas as terras têm o mesmo tamanho e diferentes fertilidades\n",
        "# K.apli é Cereal = sementes e alimentos para os trabalhadores\n",
        "# 1. Ao incoporar t2 a txL cai de 30% para  25%\n",
        "# 2. Concorrência faz surgir RT na T1 e cair txl ag para 20%"
      ],
      "metadata": {
        "id": "EgH8YovglsnB"
      },
      "execution_count": null,
      "outputs": []
    },
    {
      "cell_type": "code",
      "source": [],
      "metadata": {
        "id": "7NqzRzCwaWn8"
      },
      "execution_count": null,
      "outputs": []
    }
  ]
}