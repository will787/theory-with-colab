{
 "cells": [
  {
   "cell_type": "code",
   "execution_count": 8,
   "metadata": {},
   "outputs": [
    {
     "name": "stdout",
     "output_type": "stream",
     "text": [
      "o efeito dinâmico tem o tamanho de : 101\n",
      "['100.000000', '80.000000', '64.000000', '51.200000', '40.960000', '32.768000', '26.214400', '20.971520', '16.777216', '13.421773', '10.737418', '8.589935', '6.871948', '5.497558', '4.398047', '3.518437', '2.814750', '2.251800', '1.801440', '1.441152', '1.152921', '0.922337', '0.737870', '0.590296', '0.472237', '0.377789', '0.302231', '0.241785', '0.193428', '0.154743', '0.123794', '0.099035', '0.079228', '0.063383', '0.050706', '0.040565', '0.032452', '0.025961', '0.020769', '0.016615', '0.013292', '0.010634', '0.008507', '0.006806', '0.005444', '0.004356', '0.003485', '0.002788', '0.002230', '0.001784', '0.001427', '0.001142', '0.000913', '0.000731', '0.000585', '0.000468', '0.000374', '0.000299', '0.000239', '0.000192', '0.000153', '0.000123', '0.000098', '0.000078', '0.000063', '0.000050', '0.000040', '0.000032', '0.000026', '0.000021', '0.000017', '0.000013', '0.000011', '0.000008', '0.000007', '0.000005', '0.000004', '0.000003', '0.000003', '0.000002', '0.000002', '0.000001', '0.000001', '0.000001', '0.000001', '0.000001', '0.000000', '0.000000', '0.000000', '0.000000', '0.000000', '0.000000', '0.000000', '0.000000', '0.000000', '0.000000', '0.000000', '0.000000', '0.000000', '0.000000', '0.000000']\n"
     ]
    }
   ],
   "source": [
    "import numpy as np\n",
    "import pandas as pd\n",
    "\n",
    "investimento = 100\n",
    "pmgC = 0.8\n",
    "efect_dynamic = [investimento] \n",
    "\n",
    "max_iterations = 100\n",
    "iteration = 0\n",
    "\n",
    "while iteration < max_iterations:\n",
    "    temp = float(investimento * pmgC)\n",
    "    temp = round(temp, 7)\n",
    "    efect_dynamic.append(temp)\n",
    "    investimento = temp\n",
    "    iteration += 1\n",
    "    if(temp == 0):\n",
    "        break\n",
    "\n",
    "# Exibe a lista formatada\n",
    "print(f\"o efeito dinâmico tem o tamanho de : {len(efect_dynamic)}\")\n",
    "print([f\"{x:.6f}\" for x in efect_dynamic])\n"
   ]
  },
  {
   "cell_type": "code",
   "execution_count": 30,
   "metadata": {},
   "outputs": [
    {
     "name": "stdout",
     "output_type": "stream",
     "text": [
      "200.0\n",
      "Há um superavit fiscal\n",
      "há mais exportação do que importação\n",
      "820.1198\n"
     ]
    }
   ],
   "source": [
    "DA = 'C + I + (G - t(Y)) + (X-M(y))'\n",
    "\n",
    "investimento = 1000\n",
    "PmgC = 80/investimento\n",
    "gasto_publico  = 20\n",
    "renda_população = investimento\n",
    "def superavit_or_deficit(G,Y):\n",
    "    imposto_total = (20*Y)/100\n",
    "    print(imposto_total)\n",
    "    relation = G - (imposto_total)\n",
    "    if(relation > 0):\n",
    "        print(\"Há um deficit fiscal\")\n",
    "    else:\n",
    "        print(\"Há um superavit fiscal\")\n",
    "    return relation\n",
    "\n",
    "importacao = 0.2/renda_população\n",
    "exportacao = 40/investimento\n",
    "def import_exp(X, M):\n",
    "    status_comercial = X - M\n",
    "    if(status_comercial > 0):\n",
    "        print(\"há mais exportação do que importação\")\n",
    "    else:\n",
    "        print(\"há mais importação do que exportação\")\n",
    "    #m é função da renda, varia conforma a renda de cada pessoa\n",
    "    return status_comercial\n",
    "\n",
    "DA = PmgC + investimento + superavit_or_deficit(gasto_publico, renda_população) + import_exp(exportacao, importacao)\n",
    "print(DA)"
   ]
  }
 ],
 "metadata": {
  "kernelspec": {
   "display_name": ".venv",
   "language": "python",
   "name": "python3"
  },
  "language_info": {
   "codemirror_mode": {
    "name": "ipython",
    "version": 3
   },
   "file_extension": ".py",
   "mimetype": "text/x-python",
   "name": "python",
   "nbconvert_exporter": "python",
   "pygments_lexer": "ipython3",
   "version": "3.11.2"
  }
 },
 "nbformat": 4,
 "nbformat_minor": 2
}
