{
 "cells": [
  {
   "cell_type": "code",
   "execution_count": 4,
   "metadata": {},
   "outputs": [
    {
     "name": "stdout",
     "output_type": "stream",
     "text": [
      "o efeito dinâmico tem o tamanho de : 18\n",
      "['100.000000', '80.000000', '64.000000', '51.000000', '40.000000', '32.000000', '25.000000', '20.000000', '16.000000', '12.000000', '9.000000', '7.000000', '5.000000', '4.000000', '3.000000', '2.000000', '1.000000', '0.000000']\n"
     ]
    }
   ],
   "source": [
    "import numpy as np\n",
    "import pandas as pd\n",
    "\n",
    "investimento = 100\n",
    "pmgC = 0.8\n",
    "efect_dynamic = [investimento] \n",
    "\n",
    "max_iterations = 100\n",
    "iteration = 0\n",
    "\n",
    "while iteration < max_iterations:\n",
    "    temp = int(investimento * pmgC)\n",
    "    efect_dynamic.append(temp)\n",
    "    investimento = temp\n",
    "    iteration += 1\n",
    "    if(temp == 0):\n",
    "        break\n",
    "\n",
    "# Exibe a lista formatada\n",
    "print(f\"o efeito dinâmico tem o tamanho de : {len(efect_dynamic)}\")\n",
    "print([f\"{x:.6f}\" for x in efect_dynamic])\n"
   ]
  },
  {
   "cell_type": "code",
   "execution_count": null,
   "metadata": {},
   "outputs": [],
   "source": []
  }
 ],
 "metadata": {
  "kernelspec": {
   "display_name": ".venv",
   "language": "python",
   "name": "python3"
  },
  "language_info": {
   "codemirror_mode": {
    "name": "ipython",
    "version": 3
   },
   "file_extension": ".py",
   "mimetype": "text/x-python",
   "name": "python",
   "nbconvert_exporter": "python",
   "pygments_lexer": "ipython3",
   "version": "3.11.2"
  }
 },
 "nbformat": 4,
 "nbformat_minor": 2
}
