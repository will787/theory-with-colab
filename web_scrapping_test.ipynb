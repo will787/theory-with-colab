{
  "nbformat": 4,
  "nbformat_minor": 0,
  "metadata": {
    "colab": {
      "provenance": [],
      "authorship_tag": "ABX9TyPTFvJ16z9iict/NZaktLeW",
      "include_colab_link": true
    },
    "kernelspec": {
      "name": "python3",
      "display_name": "Python 3"
    },
    "language_info": {
      "name": "python"
    }
  },
  "cells": [
    {
      "cell_type": "markdown",
      "metadata": {
        "id": "view-in-github",
        "colab_type": "text"
      },
      "source": [
        "<a href=\"https://colab.research.google.com/github/will787/theory-with-colab/blob/main/web_scrapping_test.ipynb\" target=\"_parent\"><img src=\"https://colab.research.google.com/assets/colab-badge.svg\" alt=\"Open In Colab\"/></a>"
      ]
    },
    {
      "cell_type": "code",
      "execution_count": null,
      "metadata": {
        "id": "zmGI3sen7CPo"
      },
      "outputs": [],
      "source": [
        "from bs4 import BeautifulSoup\n",
        "from requests import get\n",
        "\n",
        "\n",
        "import numpy as np\n",
        "import pandas as pd\n",
        "\n",
        "import time\n",
        "import re"
      ]
    },
    {
      "cell_type": "code",
      "source": [
        "from requests import get\n",
        "from bs4 import BeautifulSoup\n",
        "\n",
        "import pandas as pd\n",
        "import numpy as np\n",
        "\n",
        "import time\n",
        "import re\n",
        "\n",
        "url = 'https://www.infomoney.com.br/onde-investir/jim-simons-matematico-rei-do-quant-e-criador-do-fundo-medallion-morre-aos-86-anos/'\n",
        "response = get(url)\n",
        "\n",
        "# create soup\n",
        "soup = BeautifulSoup(response.text, 'html.parser')\n",
        "\n",
        "# creating individual containers, on each one there's information about one hostel.\n",
        "holstel_containers= soup.findAll(class_= 'max-w-2xl [&_iframe]:mx-auto z-0 bg-wl-neutral-50 text-xs leading-4 py-4 px-14 text-center text-wl-neutral-500 mx-auto mb-6 xl:px-0 justify-center min-h-[320px]')\n",
        "\n",
        "# how many hostels on the page\n",
        "len(holstel_containers)\n"
      ],
      "metadata": {
        "colab": {
          "base_uri": "https://localhost:8080/"
        },
        "id": "HtW-BVQW7pDB",
        "outputId": "a3156f68-3920-4a5c-b89f-c66531734f1c"
      },
      "execution_count": null,
      "outputs": [
        {
          "output_type": "execute_result",
          "data": {
            "text/plain": [
              "0"
            ]
          },
          "metadata": {},
          "execution_count": 9
        }
      ]
    },
    {
      "cell_type": "code",
      "source": [],
      "metadata": {
        "id": "ThV2AqT88-v7"
      },
      "execution_count": null,
      "outputs": []
    }
  ]
}